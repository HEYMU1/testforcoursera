{
 "cells": [
  {
   "cell_type": "code",
   "execution_count": 18,
   "id": "d7645d81-f8e8-4c8a-9a96-2294607f8000",
   "metadata": {},
   "outputs": [
    {
     "name": "stdin",
     "output_type": "stream",
     "text": [
      " 5\n"
     ]
    },
    {
     "name": "stdout",
     "output_type": "stream",
     "text": [
      "*****\n",
      "*****\n",
      "*****\n",
      "*****\n",
      "*****\n"
     ]
    }
   ],
   "source": [
    "def pattern(n):\n",
    "    for i in range (0,n):\n",
    "        for j in range (0,n):\n",
    "            print(\"*\",end='')\n",
    "        print(end='\\n')\n",
    "\n",
    "n = int(input())\n",
    "pattern(n)"
   ]
  },
  {
   "cell_type": "code",
   "execution_count": 19,
   "id": "22eaa726-7840-43db-be76-cadba1cfa35f",
   "metadata": {},
   "outputs": [
    {
     "name": "stdin",
     "output_type": "stream",
     "text": [
      " 5\n"
     ]
    },
    {
     "name": "stdout",
     "output_type": "stream",
     "text": [
      "*\n",
      "**\n",
      "***\n",
      "****\n",
      "*****\n"
     ]
    }
   ],
   "source": [
    "def pattern(n):\n",
    "    for i in range (0,n):\n",
    "        for j in range (0,i+1):\n",
    "            print(\"*\",end='')\n",
    "        print(end='\\n')\n",
    "\n",
    "n = int(input())\n",
    "pattern(n)"
   ]
  },
  {
   "cell_type": "code",
   "execution_count": 20,
   "id": "df7c1374-7b21-4cb0-86e2-d0048642c079",
   "metadata": {},
   "outputs": [
    {
     "name": "stdin",
     "output_type": "stream",
     "text": [
      " 5\n"
     ]
    },
    {
     "name": "stdout",
     "output_type": "stream",
     "text": [
      "1\n",
      "12\n",
      "123\n",
      "1234\n",
      "12345\n"
     ]
    }
   ],
   "source": [
    "def pattern(n):\n",
    "    for i in range (0,n):\n",
    "        for j in range (0,i+1):\n",
    "            print(j+1,end='')\n",
    "        print(end='\\n')\n",
    "\n",
    "n = int(input())\n",
    "pattern(n)"
   ]
  },
  {
   "cell_type": "code",
   "execution_count": 21,
   "id": "141da985-81b7-48d3-851a-f7ea11306704",
   "metadata": {},
   "outputs": [
    {
     "name": "stdin",
     "output_type": "stream",
     "text": [
      " 5\n"
     ]
    },
    {
     "name": "stdout",
     "output_type": "stream",
     "text": [
      "1\n",
      "22\n",
      "333\n",
      "4444\n",
      "55555\n"
     ]
    }
   ],
   "source": [
    "def pattern(n):\n",
    "    for i in range (0,n):\n",
    "        for j in range (0,i+1):\n",
    "            print(i+1,end='')\n",
    "        print(end='\\n')\n",
    "\n",
    "n = int(input())\n",
    "pattern(n)"
   ]
  },
  {
   "cell_type": "code",
   "execution_count": 22,
   "id": "afb036d1-b587-4a59-8aea-174c8b504aec",
   "metadata": {},
   "outputs": [
    {
     "name": "stdin",
     "output_type": "stream",
     "text": [
      " 5\n"
     ]
    },
    {
     "name": "stdout",
     "output_type": "stream",
     "text": [
      "*****\n",
      "****\n",
      "***\n",
      "**\n",
      "*\n"
     ]
    }
   ],
   "source": [
    "def pattern(n):\n",
    "    for i in range (n,0,-1):\n",
    "        for j in range (0,i):\n",
    "            print('*',end='')\n",
    "        print(end='\\n')\n",
    "\n",
    "n = int(input())\n",
    "pattern(n)"
   ]
  },
  {
   "cell_type": "code",
   "execution_count": 17,
   "id": "30458648-1809-4cd3-9902-e224e085e060",
   "metadata": {},
   "outputs": [
    {
     "name": "stdin",
     "output_type": "stream",
     "text": [
      " 5\n"
     ]
    },
    {
     "name": "stdout",
     "output_type": "stream",
     "text": [
      "12345\n",
      "1234\n",
      "123\n",
      "12\n",
      "1\n"
     ]
    }
   ],
   "source": [
    "def pattern(n):\n",
    "    for i in range (n,0,-1):\n",
    "        for j in range (0,i):\n",
    "            print(j+1,end='')\n",
    "        print(end='\\n')\n",
    "\n",
    "n = int(input())\n",
    "pattern(n)"
   ]
  },
  {
   "cell_type": "code",
   "execution_count": 24,
   "id": "c277cf1a-0ea2-49a9-9722-fd35f5b12c20",
   "metadata": {},
   "outputs": [
    {
     "name": "stdin",
     "output_type": "stream",
     "text": [
      " 5\n"
     ]
    },
    {
     "name": "stdout",
     "output_type": "stream",
     "text": [
      "    *    \n",
      "   ***   \n",
      "  *****  \n",
      " ******* \n",
      "*********\n"
     ]
    }
   ],
   "source": [
    "def pattern(n):\n",
    "    for i in range (0,n):\n",
    "        for j in range(0,n-i-1):\n",
    "            print(' ',end='')\n",
    "        for k in range(0,2*i+1):\n",
    "            print('*',end='')\n",
    "        for l in range(0,n-i-1):\n",
    "            print(' ',end='')\n",
    "        print(end='\\n')\n",
    "\n",
    "n = int(input())\n",
    "pattern(n)"
   ]
  },
  {
   "cell_type": "code",
   "execution_count": 33,
   "id": "88babd16-3d76-4f67-af85-8179eb1b1936",
   "metadata": {},
   "outputs": [
    {
     "name": "stdin",
     "output_type": "stream",
     "text": [
      " 5\n"
     ]
    },
    {
     "name": "stdout",
     "output_type": "stream",
     "text": [
      "*********\n",
      " ******* \n",
      "  *****  \n",
      "   ***   \n",
      "    *    \n"
     ]
    }
   ],
   "source": [
    "def pattern(n):\n",
    "    for i in range (n,0,-1):\n",
    "        for j in range(0,n-i):\n",
    "            print(' ',end='')\n",
    "        for k in range(0,2*i-1):\n",
    "            print('*',end='')\n",
    "        for l in range(0,n-i):\n",
    "            print(' ',end='')\n",
    "        print(end='\\n')\n",
    "\n",
    "n = int(input())\n",
    "pattern(n)"
   ]
  },
  {
   "cell_type": "code",
   "execution_count": 34,
   "id": "da0c580b-798b-4967-a611-4caa8a5493ce",
   "metadata": {},
   "outputs": [
    {
     "name": "stdin",
     "output_type": "stream",
     "text": [
      " 5\n"
     ]
    },
    {
     "name": "stdout",
     "output_type": "stream",
     "text": [
      "    *    \n",
      "   ***   \n",
      "  *****  \n",
      " ******* \n",
      "*********\n",
      "*********\n",
      " ******* \n",
      "  *****  \n",
      "   ***   \n",
      "    *    \n"
     ]
    }
   ],
   "source": [
    "def pattern(n):\n",
    "    for i in range (0,n):\n",
    "        for j in range(0,n-i-1):\n",
    "            print(' ',end='')\n",
    "        for k in range(0,2*i+1):\n",
    "            print('*',end='')\n",
    "        for l in range(0,n-i-1):\n",
    "            print(' ',end='')\n",
    "        print(end='\\n')\n",
    "    for i in range (n,0,-1):\n",
    "        for j in range(0,n-i):\n",
    "            print(' ',end='')\n",
    "        for k in range(0,2*i-1):\n",
    "            print('*',end='')\n",
    "        for l in range(0,n-i):\n",
    "            print(' ',end='')\n",
    "        print(end='\\n')\n",
    "\n",
    "n = int(input())\n",
    "pattern(n)"
   ]
  },
  {
   "cell_type": "code",
   "execution_count": 38,
   "id": "1cf2e71d-3cc1-4178-846b-ee98eda6436d",
   "metadata": {},
   "outputs": [
    {
     "name": "stdin",
     "output_type": "stream",
     "text": [
      " 5\n"
     ]
    },
    {
     "name": "stdout",
     "output_type": "stream",
     "text": [
      "*\n",
      "**\n",
      "***\n",
      "****\n",
      "*****\n",
      "****\n",
      "***\n",
      "**\n",
      "*\n"
     ]
    }
   ],
   "source": [
    "def pattern(n):\n",
    "    for i in range (0,n):\n",
    "        for j in range (0,i+1):\n",
    "            print(\"*\",end='')\n",
    "        print(end='\\n')\n",
    "    for i in range (n-1,0,-1):\n",
    "        for j in range (0,i):\n",
    "            print('*',end='')\n",
    "        print(end='\\n')\n",
    "\n",
    "n = int(input())\n",
    "pattern(n)"
   ]
  },
  {
   "cell_type": "code",
   "execution_count": 39,
   "id": "28a92aff-e59a-4d76-89c3-11b32d1326ee",
   "metadata": {},
   "outputs": [
    {
     "name": "stdin",
     "output_type": "stream",
     "text": [
      " 5\n"
     ]
    },
    {
     "name": "stdout",
     "output_type": "stream",
     "text": [
      "1\n",
      "01\n",
      "010\n",
      "1010\n",
      "10101\n"
     ]
    }
   ],
   "source": [
    "def pattern(n):\n",
    "    a = 1\n",
    "    for i in range (0,n):\n",
    "        for j in range (0,i+1):\n",
    "            print(a,end='')\n",
    "            if a==1:\n",
    "                a = 0\n",
    "            else :\n",
    "                a = 1\n",
    "        print(end='\\n')\n",
    "\n",
    "n = int(input())\n",
    "pattern(n)"
   ]
  },
  {
   "cell_type": "code",
   "execution_count": 40,
   "id": "a43f4f5a-faee-4f30-8778-7f54ffb94784",
   "metadata": {},
   "outputs": [
    {
     "name": "stdin",
     "output_type": "stream",
     "text": [
      " 5\n"
     ]
    },
    {
     "name": "stdout",
     "output_type": "stream",
     "text": [
      "1\n",
      "10\n",
      "101\n",
      "1010\n",
      "10101\n"
     ]
    }
   ],
   "source": [
    "def pattern(n):\n",
    "    for i in range (0,n):\n",
    "        a = 1\n",
    "        for j in range (0,i+1):\n",
    "            print(a,end='')\n",
    "            if a==1:\n",
    "                a = 0\n",
    "            else :\n",
    "                a = 1\n",
    "        print(end='\\n')\n",
    "\n",
    "n = int(input())\n",
    "pattern(n)"
   ]
  },
  {
   "cell_type": "code",
   "execution_count": 53,
   "id": "4049257f-690a-4425-81f1-3481276d19b9",
   "metadata": {},
   "outputs": [
    {
     "name": "stdin",
     "output_type": "stream",
     "text": [
      " 5\n"
     ]
    },
    {
     "name": "stdout",
     "output_type": "stream",
     "text": [
      "1        1\n",
      "12      21\n",
      "123    321\n",
      "1234  4321\n",
      "1234554321\n"
     ]
    }
   ],
   "source": [
    "def pattern(n):\n",
    "    for i in range (n,0,-1):\n",
    "        for j in range(0,n-i+1):\n",
    "            print(j+1,end='')\n",
    "        for k in range(0,2*i-2):\n",
    "            print(' ',end='')\n",
    "        for l in range(n-i+1,0,-1):\n",
    "            print(l,end='')\n",
    "        print(end='\\n')\n",
    "\n",
    "n = int(input())\n",
    "pattern(n)"
   ]
  },
  {
   "cell_type": "code",
   "execution_count": 56,
   "id": "d9e1dcce-91b1-4f52-91d9-e65181240569",
   "metadata": {},
   "outputs": [
    {
     "name": "stdin",
     "output_type": "stream",
     "text": [
      " 5\n"
     ]
    },
    {
     "name": "stdout",
     "output_type": "stream",
     "text": [
      "1 \n",
      "2 3 \n",
      "4 5 6 \n",
      "7 8 9 10 \n",
      "11 12 13 14 15 \n"
     ]
    }
   ],
   "source": [
    "def pattern(n):\n",
    "    a = 1\n",
    "    for i in range (0,n):\n",
    "        for j in range (0,i+1):\n",
    "            print(a,end=' ')\n",
    "            a = a+1\n",
    "        print(end='\\n')\n",
    "\n",
    "n = int(input())\n",
    "pattern(n)"
   ]
  },
  {
   "cell_type": "code",
   "execution_count": 58,
   "id": "1de1924a-e79e-4191-bc05-4cec20946663",
   "metadata": {},
   "outputs": [
    {
     "name": "stdin",
     "output_type": "stream",
     "text": [
      " 5\n"
     ]
    },
    {
     "name": "stdout",
     "output_type": "stream",
     "text": [
      "A\n",
      "AB\n",
      "ABC\n",
      "ABCD\n",
      "ABCDE\n"
     ]
    }
   ],
   "source": [
    "def pattern(n):\n",
    "    a = 'A'\n",
    "    for i in range (0,n):\n",
    "        for j in range (0,i+1):\n",
    "            b = chr(ord(a) + j)\n",
    "            print(b,end='')\n",
    "        print(end='\\n')\n",
    "\n",
    "n = int(input())\n",
    "pattern(n)"
   ]
  },
  {
   "cell_type": "code",
   "execution_count": 59,
   "id": "d85a6dcf-3bc3-4044-a8fb-134f8aa587e9",
   "metadata": {},
   "outputs": [
    {
     "name": "stdin",
     "output_type": "stream",
     "text": [
      " 5\n"
     ]
    },
    {
     "name": "stdout",
     "output_type": "stream",
     "text": [
      "ABCDE\n",
      "ABCD\n",
      "ABC\n",
      "AB\n",
      "A\n"
     ]
    }
   ],
   "source": [
    "def pattern(n):\n",
    "    a = 'A'\n",
    "    for i in range (n,0,-1):\n",
    "        for j in range (0,i):\n",
    "            b = chr(ord(a) + j)\n",
    "            print(b,end='')\n",
    "        print(end='\\n')\n",
    "\n",
    "n = int(input())\n",
    "pattern(n)"
   ]
  },
  {
   "cell_type": "code",
   "execution_count": 60,
   "id": "39bda649-495d-4df0-ac38-9e22643384cc",
   "metadata": {},
   "outputs": [
    {
     "name": "stdin",
     "output_type": "stream",
     "text": [
      " 5\n"
     ]
    },
    {
     "name": "stdout",
     "output_type": "stream",
     "text": [
      "A\n",
      "BB\n",
      "CCC\n",
      "DDDD\n",
      "EEEEE\n"
     ]
    }
   ],
   "source": [
    "def pattern(n):\n",
    "    a = 'A'\n",
    "    for i in range (0,n):\n",
    "        b = chr(ord(a) + i)\n",
    "        for j in range (0,i+1):\n",
    "            print(b,end='')\n",
    "        print(end='\\n')\n",
    "\n",
    "n = int(input())\n",
    "pattern(n)"
   ]
  },
  {
   "cell_type": "code",
   "execution_count": 11,
   "id": "ce13133c-31f0-44a1-9e85-45ba563d991c",
   "metadata": {},
   "outputs": [
    {
     "name": "stdin",
     "output_type": "stream",
     "text": [
      " 5\n"
     ]
    },
    {
     "name": "stdout",
     "output_type": "stream",
     "text": [
      "    A    \n",
      "   BCD   \n",
      "  CEGIK  \n",
      " DGJMPSV \n",
      "EIMQUY]ae\n"
     ]
    }
   ],
   "source": [
    "def pattern(n):\n",
    "    for i in range (0,n):\n",
    "        a = 'A'\n",
    "        for j in range(0,n-i-1):\n",
    "            print(' ',end='')\n",
    "        for k in range(0,2*i+1):\n",
    "            a = chr(ord(a) + i)\n",
    "            print(a,end='')\n",
    "        for l in range(0,n-i-1):\n",
    "            print(' ',end='')\n",
    "        print(end='\\n')\n",
    "\n",
    "n = int(input())\n",
    "pattern(n)"
   ]
  },
  {
   "cell_type": "code",
   "execution_count": 4,
   "id": "fc9bc466-1edf-48c4-a5ee-fb66ffc2b5b1",
   "metadata": {},
   "outputs": [
    {
     "name": "stdin",
     "output_type": "stream",
     "text": [
      " 5\n"
     ]
    },
    {
     "name": "stdout",
     "output_type": "stream",
     "text": [
      "*****\n",
      " ****\n",
      "  ***\n",
      "   **\n",
      "    *\n"
     ]
    }
   ],
   "source": [
    "def pattern(n):\n",
    "    for i in range (n,0,-1):\n",
    "        for j in range(0,n-i):\n",
    "            print(' ',end='')\n",
    "        for k in range(0,i):\n",
    "            print('*',end='')\n",
    "        print(end='\\n')\n",
    "n = int(input())\n",
    "pattern(n)"
   ]
  }
 ],
 "metadata": {
  "kernelspec": {
   "display_name": "Python 3 (ipykernel)",
   "language": "python",
   "name": "python3"
  },
  "language_info": {
   "codemirror_mode": {
    "name": "ipython",
    "version": 3
   },
   "file_extension": ".py",
   "mimetype": "text/x-python",
   "name": "python",
   "nbconvert_exporter": "python",
   "pygments_lexer": "ipython3",
   "version": "3.12.2"
  }
 },
 "nbformat": 4,
 "nbformat_minor": 5
}
